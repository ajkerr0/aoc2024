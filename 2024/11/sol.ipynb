{
 "cells": [
  {
   "cell_type": "code",
   "execution_count": 1,
   "id": "65ebeca3-c7fa-48b6-9f09-f5ed9245db4e",
   "metadata": {},
   "outputs": [],
   "source": [
    "import functools\n",
    "import math"
   ]
  },
  {
   "cell_type": "code",
   "execution_count": 2,
   "id": "974e965b-5d2d-4f1d-98ac-5becd4bb6ee7",
   "metadata": {},
   "outputs": [],
   "source": [
    "inp = [int(x) for x in open('input').read().split()]"
   ]
  },
  {
   "cell_type": "markdown",
   "id": "29a729df-68f1-481d-8a8d-7a64ab31110d",
   "metadata": {},
   "source": [
    "### Part 1"
   ]
  },
  {
   "cell_type": "code",
   "execution_count": 3,
   "id": "cb3c6909-9f3f-44ef-9a3a-5ab4a8e5c13e",
   "metadata": {},
   "outputs": [],
   "source": [
    "def rule(stone):\n",
    "    if stone == 0:\n",
    "        return (1,)\n",
    "    else:\n",
    "        slen = (math.floor(math.log10(stone)) + 1)\n",
    "    if slen % 2 == 0:\n",
    "        return (math.floor(stone/(10**(slen//2))), int(stone % 10**(slen//2)))\n",
    "    else:\n",
    "        return (stone*2024,)\n",
    "\n",
    "def blink(stones):\n",
    "    res = []\n",
    "    for stone in stones:\n",
    "        res.extend(rule(stone))\n",
    "    return res"
   ]
  },
  {
   "cell_type": "code",
   "execution_count": 4,
   "id": "9522ce8b-0dcd-47e9-97b2-2f5e545523ca",
   "metadata": {},
   "outputs": [],
   "source": [
    "stones = inp\n",
    "for i in range(25):\n",
    "    stones = blink(stones)\n",
    "ans1 = len(stones)"
   ]
  },
  {
   "cell_type": "markdown",
   "id": "f04ba622-bc38-4eab-82a8-138b995ba4c8",
   "metadata": {},
   "source": [
    "## Part 2"
   ]
  },
  {
   "cell_type": "code",
   "execution_count": 5,
   "id": "dd231674-db37-431e-8d1e-07b93bef494f",
   "metadata": {},
   "outputs": [],
   "source": [
    "@functools.cache\n",
    "def blink(stone, blinks_left):\n",
    "    if blinks_left == 0:\n",
    "        return 1\n",
    "    if stone == 0:\n",
    "        return blink(1, blinks_left-1)\n",
    "    else:\n",
    "        slen = (math.floor(math.log10(stone)) + 1)\n",
    "    if slen % 2 == 0:\n",
    "        a = math.floor(stone/(10**(slen//2)))\n",
    "        b = int(stone % 10**(slen//2))\n",
    "        return blink(a, blinks_left-1) + blink(b, blinks_left-1)\n",
    "    else:\n",
    "        return blink(stone*2024, blinks_left-1)"
   ]
  },
  {
   "cell_type": "code",
   "execution_count": 6,
   "id": "0fe567aa-8993-4552-9246-81b672e37dc4",
   "metadata": {},
   "outputs": [],
   "source": [
    "ans2 = 0\n",
    "stones = inp\n",
    "blinks_left = 75\n",
    "for stone in stones:\n",
    "    ans2 += blink(stone, blinks_left)"
   ]
  }
 ],
 "metadata": {
  "kernelspec": {
   "display_name": "Python 3 (ipykernel)",
   "language": "python",
   "name": "python3"
  },
  "language_info": {
   "codemirror_mode": {
    "name": "ipython",
    "version": 3
   },
   "file_extension": ".py",
   "mimetype": "text/x-python",
   "name": "python",
   "nbconvert_exporter": "python",
   "pygments_lexer": "ipython3",
   "version": "3.11.9"
  }
 },
 "nbformat": 4,
 "nbformat_minor": 5
}
