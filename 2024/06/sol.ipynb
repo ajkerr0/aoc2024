{
 "cells": [
  {
   "cell_type": "code",
   "execution_count": null,
   "id": "682cab85-3780-460e-929c-e3c40dcce479",
   "metadata": {},
   "outputs": [],
   "source": [
    "import numpy as np"
   ]
  },
  {
   "cell_type": "code",
   "execution_count": null,
   "id": "94b34d1d-6663-457f-88fc-28edd6fa4246",
   "metadata": {},
   "outputs": [],
   "source": [
    "inp = open('input').read().splitlines()"
   ]
  },
  {
   "cell_type": "code",
   "execution_count": null,
   "id": "29eaad38-bbd1-4a5c-b3e5-b40f1bd4730c",
   "metadata": {},
   "outputs": [],
   "source": [
    "for i, row in enumerate(inp):\n",
    "        if '^' in row:\n",
    "            og_start = (i, row.index('^'))        "
   ]
  },
  {
   "cell_type": "code",
   "execution_count": null,
   "id": "021f98e7-60c4-4133-9d40-b33ca179acee",
   "metadata": {},
   "outputs": [],
   "source": [
    "og = np.array([list(l) for l in inp])\n",
    "n = len(og)"
   ]
  },
  {
   "cell_type": "markdown",
   "id": "1c34d83b-b6ad-4c7b-a89c-87ab0d1562cd",
   "metadata": {},
   "source": [
    "### Part 1"
   ]
  },
  {
   "cell_type": "code",
   "execution_count": null,
   "id": "a21eb2a9-c140-42c8-94e4-8516f4535dc2",
   "metadata": {},
   "outputs": [],
   "source": [
    "rot = 0\n",
    "start = (og_start[0], og_start[1])\n",
    "grid = np.zeros(og.shape, dtype=int)\n",
    "gmap = np.copy(og)\n",
    "\n",
    "start = (start[1], n-1-start[0])\n",
    "grid = np.rot90(grid, k=-1)\n",
    "gmap = np.rot90(gmap, k=-1)\n",
    "rot -= 1\n",
    "\n",
    "while True:\n",
    "\n",
    "    where = np.where(gmap[start[0], start[1]:] == '#')[0]\n",
    "    \n",
    "    if len(where) == 0:\n",
    "        grid[start[0], start[1]:] += 1\n",
    "        break\n",
    "    else:\n",
    "        grid[start[0], start[1]:(start[1]+where[0])] += 1\n",
    "\n",
    "    end = (start[0], start[1]+where[0]-1)\n",
    "\n",
    "    start = (n-start[1]-int(where[0]), start[0])\n",
    "    grid = np.rot90(grid, k=1)\n",
    "    gmap = np.rot90(gmap, k=1)\n",
    "    rot += 1\n",
    "\n",
    "np.sum(grid > 0)"
   ]
  },
  {
   "cell_type": "markdown",
   "id": "c2fa1bb5-2f41-4e3f-a9e3-4e7fee2f9152",
   "metadata": {},
   "source": [
    "### Part 2"
   ]
  },
  {
   "cell_type": "code",
   "execution_count": null,
   "id": "f64553c5-ad5f-40a7-9bc3-6f7a55e8f058",
   "metadata": {},
   "outputs": [],
   "source": [
    "grid2 = np.rot90(grid, k=-rot)"
   ]
  },
  {
   "cell_type": "code",
   "execution_count": null,
   "id": "85106ce7-a39d-4c67-b784-c5cef9b1f6e8",
   "metadata": {},
   "outputs": [],
   "source": [
    "def is_loop(gmap):\n",
    "    '''return true if given map creates an infinite loop, false if the guard escapes'''\n",
    "    start = (og_start[0], og_start[1])\n",
    "    stops = {}\n",
    "\n",
    "    start = (start[1], n-1-start[0])\n",
    "    gmap = np.rot90(gmap, k=-1)\n",
    "\n",
    "    while True:\n",
    "        where = np.where(gmap[start[0], start[1]:] == '#')[0]\n",
    "        \n",
    "        if len(where) == 0:\n",
    "            return False\n",
    "\n",
    "        prev = (start[0], start[1])\n",
    "        start = (n-start[1]-int(where[0]), start[0])\n",
    "        gmap = np.rot90(gmap, k=1)\n",
    "\n",
    "        if start in stops:\n",
    "            if prev in stops[start]:\n",
    "                return True\n",
    "            else:\n",
    "                stops[start].append(prev)\n",
    "        else:\n",
    "            stops[start] = [prev]"
   ]
  },
  {
   "cell_type": "code",
   "execution_count": null,
   "id": "6917a631-1fd5-4b4d-bfff-93f203574f33",
   "metadata": {},
   "outputs": [],
   "source": [
    "s = 0\n",
    "\n",
    "for i, row in enumerate(grid2):\n",
    "    for j, col in enumerate(row):\n",
    "        if col > 0:\n",
    "            # put an obstacle there, test track\n",
    "            gmap = np.copy(og)\n",
    "            gmap[i,j] = '#'\n",
    "            if is_loop(gmap):\n",
    "                s += 1\n",
    "\n",
    "s"
   ]
  }
 ],
 "metadata": {
  "kernelspec": {
   "display_name": "Python 3 (ipykernel)",
   "language": "python",
   "name": "python3"
  },
  "language_info": {
   "codemirror_mode": {
    "name": "ipython",
    "version": 3
   },
   "file_extension": ".py",
   "mimetype": "text/x-python",
   "name": "python",
   "nbconvert_exporter": "python",
   "pygments_lexer": "ipython3",
   "version": "3.11.9"
  }
 },
 "nbformat": 4,
 "nbformat_minor": 5
}
