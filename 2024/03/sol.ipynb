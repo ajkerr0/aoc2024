{
 "cells": [
  {
   "cell_type": "code",
   "execution_count": 1,
   "id": "e2fafda8-8f78-40c2-b8a8-a920318b3262",
   "metadata": {},
   "outputs": [],
   "source": [
    "import re"
   ]
  },
  {
   "cell_type": "code",
   "execution_count": 2,
   "id": "88586e4b-62f0-42df-bc29-0f460b31f46c",
   "metadata": {},
   "outputs": [],
   "source": [
    "ls = open('input').read()"
   ]
  },
  {
   "cell_type": "markdown",
   "id": "3d1a4957-49a0-49b7-bd26-e4196a7e18bb",
   "metadata": {},
   "source": [
    "### Part 1"
   ]
  },
  {
   "cell_type": "code",
   "execution_count": 3,
   "id": "5b18d4e6-a09a-42cc-810b-243fba998f54",
   "metadata": {},
   "outputs": [
    {
     "data": {
      "text/plain": [
       "155955228"
      ]
     },
     "execution_count": 3,
     "metadata": {},
     "output_type": "execute_result"
    }
   ],
   "source": [
    "s = 0\n",
    "for x, y in re.findall(r'mul\\((\\d{1,3})\\,(\\d{1,3})\\)', ls):\n",
    "    s += int(x)*int(y)\n",
    "s"
   ]
  },
  {
   "cell_type": "markdown",
   "id": "7d15f220-ad5f-4877-acd3-9f7604b94380",
   "metadata": {},
   "source": [
    "### Part 2"
   ]
  },
  {
   "cell_type": "code",
   "execution_count": 4,
   "id": "acc7a836-0822-4760-9602-4d9d29879472",
   "metadata": {},
   "outputs": [
    {
     "data": {
      "text/plain": [
       "100189366"
      ]
     },
     "execution_count": 4,
     "metadata": {},
     "output_type": "execute_result"
    }
   ],
   "source": [
    "s = 0\n",
    "do = True\n",
    "for i in re.findall(r\"(mul\\(\\d{1,3}\\,\\d{1,3}\\)|do\\(\\)|don't?\\(\\))\", ls):\n",
    "\n",
    "    if i == 'do()':\n",
    "        do = True\n",
    "        continue\n",
    "    elif i == \"don't()\":\n",
    "        do = False\n",
    "        continue\n",
    "\n",
    "    if do:\n",
    "        x, y = re.findall(r'\\d{1,3}', i)\n",
    "        s += int(x)*int(y)\n",
    "        \n",
    "s"
   ]
  }
 ],
 "metadata": {
  "kernelspec": {
   "display_name": "Python 3 (ipykernel)",
   "language": "python",
   "name": "python3"
  },
  "language_info": {
   "codemirror_mode": {
    "name": "ipython",
    "version": 3
   },
   "file_extension": ".py",
   "mimetype": "text/x-python",
   "name": "python",
   "nbconvert_exporter": "python",
   "pygments_lexer": "ipython3",
   "version": "3.11.9"
  }
 },
 "nbformat": 4,
 "nbformat_minor": 5
}
