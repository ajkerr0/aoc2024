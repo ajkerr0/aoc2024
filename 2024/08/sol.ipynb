{
 "cells": [
  {
   "cell_type": "code",
   "execution_count": null,
   "id": "a52613fe-5ba8-4580-8e89-4b4884c2a110",
   "metadata": {},
   "outputs": [],
   "source": [
    "import re\n",
    "\n",
    "import numpy as np"
   ]
  },
  {
   "cell_type": "code",
   "execution_count": null,
   "id": "ed6bda0a-6464-436b-9118-17550b1e428e",
   "metadata": {},
   "outputs": [],
   "source": [
    "inp = open('input').read()"
   ]
  },
  {
   "cell_type": "markdown",
   "id": "271cde18-128f-4d2f-bb8d-4e1475b5f200",
   "metadata": {},
   "source": [
    "### Part 1"
   ]
  },
  {
   "cell_type": "code",
   "execution_count": null,
   "id": "9b456336-a971-4208-a3a4-2dfd978f1ca8",
   "metadata": {},
   "outputs": [],
   "source": [
    "amap = np.array([list(l) for l in inp.splitlines()])\n",
    "grid = np.zeros(amap.shape, dtype=int)\n",
    "n = amap.shape[0] - 1\n",
    "\n",
    "for ant_type in re.findall(r'(\\d|[a-z]|[A-Z])', inp):\n",
    "    where = np.array(np.where(amap == ant_type)).T\n",
    "    for i, iloc in enumerate(where):\n",
    "        for j, jloc in enumerate(where):\n",
    "            if i < j:\n",
    "                nodeloc0 = iloc + (iloc - jloc)\n",
    "                nodeloc1 = jloc + (jloc - iloc)\n",
    "                for loc in (nodeloc0, nodeloc1):\n",
    "                    if (loc >= 0).all() and (loc <= n).all():\n",
    "                        grid[loc[0], loc[1]] += 1\n",
    "\n",
    "ans1 = np.sum(grid > 0)"
   ]
  },
  {
   "cell_type": "markdown",
   "id": "08183059-6b71-44ce-a103-32bb149f93d4",
   "metadata": {},
   "source": [
    "### Part 2"
   ]
  },
  {
   "cell_type": "code",
   "execution_count": null,
   "id": "60d81eb8-beeb-430c-8c31-eee048c19510",
   "metadata": {},
   "outputs": [],
   "source": [
    "amap = np.array([list(l) for l in inp.splitlines()])\n",
    "coords = np.argwhere(amap)\n",
    "grid = np.zeros(amap.shape, dtype=int)\n",
    "\n",
    "for ant_type in re.findall(r'(\\d|[a-z]|[A-Z])', inp):\n",
    "\n",
    "    where = np.array(np.where(amap == ant_type)).T\n",
    "\n",
    "    for i, iloc in enumerate(where):\n",
    "        for j, jloc in enumerate(where):\n",
    "            if i < j:\n",
    "                \n",
    "                a = (iloc - jloc).reshape(1,-1)\n",
    "                b = coords - iloc\n",
    "                res = np.matmul(a, b.T)[0]/np.linalg.norm(a)/np.linalg.norm(b, axis=1)\n",
    "                w1 = np.where(np.isclose(np.abs(res), 1, rtol=0))[0]\n",
    "                for w in w1:\n",
    "                    grid[coords[w][0], coords[w][1]] += 1\n",
    "                grid[iloc[0], iloc[1]] += 1\n",
    "\n",
    "ans2 = np.sum(grid > 0)"
   ]
  }
 ],
 "metadata": {
  "kernelspec": {
   "display_name": "Python 3 (ipykernel)",
   "language": "python",
   "name": "python3"
  },
  "language_info": {
   "codemirror_mode": {
    "name": "ipython",
    "version": 3
   },
   "file_extension": ".py",
   "mimetype": "text/x-python",
   "name": "python",
   "nbconvert_exporter": "python",
   "pygments_lexer": "ipython3",
   "version": "3.11.9"
  }
 },
 "nbformat": 4,
 "nbformat_minor": 5
}
