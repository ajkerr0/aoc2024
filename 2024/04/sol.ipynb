{
 "cells": [
  {
   "cell_type": "code",
   "execution_count": 1,
   "id": "482a6444-e3d9-41d5-b75c-6ac7ba35e50b",
   "metadata": {},
   "outputs": [],
   "source": [
    "import re\n",
    "\n",
    "import numpy as np"
   ]
  },
  {
   "cell_type": "code",
   "execution_count": 2,
   "id": "2a32ede0-4466-49ef-a859-4d89f6915b47",
   "metadata": {},
   "outputs": [],
   "source": [
    "ls = open('input').read().splitlines()"
   ]
  },
  {
   "cell_type": "code",
   "execution_count": 3,
   "id": "1c4d46a2-3b83-4b66-b14b-c008a1d7a0a9",
   "metadata": {},
   "outputs": [],
   "source": [
    "og = np.array([list(l) for l in ls])\n",
    "n = len(og)"
   ]
  },
  {
   "cell_type": "markdown",
   "id": "fab0b3b9-380f-4ad4-af3b-c71f4e93fbfe",
   "metadata": {},
   "source": [
    "### Part 1"
   ]
  },
  {
   "cell_type": "code",
   "execution_count": 4,
   "id": "0760e502-df07-4137-90d6-5a3164495df3",
   "metadata": {},
   "outputs": [
    {
     "data": {
      "text/plain": [
       "2454"
      ]
     },
     "execution_count": 4,
     "metadata": {},
     "output_type": "execute_result"
    }
   ],
   "source": [
    "s = 0\n",
    "\n",
    "for j in (0, 1, 2, 3):\n",
    "    mat = np.rot90(og, k=j)\n",
    "    for i in range(n):\n",
    "        row = ''.join(mat[i].tolist())\n",
    "        s += len(re.findall(r\"XMAS\", row))\n",
    "    for i in np.arange(1-n, n-1):\n",
    "        diag = ''.join(np.diagonal(mat, offset=i))\n",
    "        s += len(re.findall(r\"XMAS\", diag))\n",
    "\n",
    "s"
   ]
  },
  {
   "cell_type": "markdown",
   "id": "26239372-7a49-4b57-a46e-2ba605e09564",
   "metadata": {},
   "source": [
    "### Part 2"
   ]
  },
  {
   "cell_type": "code",
   "execution_count": 5,
   "id": "b5dc25ae-8152-47dc-af10-965501481cf6",
   "metadata": {},
   "outputs": [],
   "source": [
    "og_x, og_y = np.meshgrid(np.arange(n), np.arange(n))"
   ]
  },
  {
   "cell_type": "code",
   "execution_count": 6,
   "id": "dc0693d2-8db1-40a5-980a-2dc6cc5e697d",
   "metadata": {},
   "outputs": [
    {
     "data": {
      "text/plain": [
       "np.int64(1858)"
      ]
     },
     "execution_count": 6,
     "metadata": {},
     "output_type": "execute_result"
    }
   ],
   "source": [
    "grid = np.zeros(og.shape, dtype=int)\n",
    "\n",
    "for j in (0, 1, 2, 3):\n",
    "    mat = np.rot90(og, k=j)\n",
    "    x = np.rot90(og_x, k=j)\n",
    "    y = np.rot90(og_y, k=j)\n",
    "    for i in np.arange(1-n, n-1):\n",
    "        diag = ''.join(np.diagonal(mat, offset=i))\n",
    "        diag_x = np.diagonal(x, offset=i)\n",
    "        diag_y = np.diagonal(y, offset=i)\n",
    "        for match in re.finditer(r'MAS', diag):\n",
    "            idx = match.start() + 1\n",
    "            grid[diag_y[idx], diag_x[idx]] += 1\n",
    "\n",
    "np.sum(grid == 2)"
   ]
  }
 ],
 "metadata": {
  "kernelspec": {
   "display_name": "Python 3 (ipykernel)",
   "language": "python",
   "name": "python3"
  },
  "language_info": {
   "codemirror_mode": {
    "name": "ipython",
    "version": 3
   },
   "file_extension": ".py",
   "mimetype": "text/x-python",
   "name": "python",
   "nbconvert_exporter": "python",
   "pygments_lexer": "ipython3",
   "version": "3.11.9"
  }
 },
 "nbformat": 4,
 "nbformat_minor": 5
}
