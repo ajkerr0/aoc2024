{
 "cells": [
  {
   "cell_type": "code",
   "execution_count": 1,
   "id": "9e797889-9b0f-4e2f-ba95-d71b6b5676f7",
   "metadata": {},
   "outputs": [],
   "source": [
    "inp = open('input').read().splitlines()\n",
    "inp = [[int(x) for x in line] for line in inp]"
   ]
  },
  {
   "cell_type": "code",
   "execution_count": 2,
   "id": "b6426f54-c2c6-4290-a8f8-532e1b488105",
   "metadata": {},
   "outputs": [],
   "source": [
    "def neighbors(state):\n",
    "    nns = []\n",
    "    # find neighbors that increment one\n",
    "    val, i, j = state\n",
    "    if i > 0:\n",
    "        if inp[i-1][j] == val + 1:\n",
    "            nns.append((val+1, i-1, j))\n",
    "    if i < len(inp) - 1:\n",
    "        if inp[i+1][j] == val + 1:\n",
    "            nns.append((val+1, i+1, j))\n",
    "    if j > 0:\n",
    "        if inp[i][j-1] == val + 1:\n",
    "            nns.append((val+1, i, j-1))\n",
    "    if j < len(inp) - 1:\n",
    "        if inp[i][j+1] == val + 1:\n",
    "            nns.append((val+1, i, j+1))\n",
    "    return nns"
   ]
  },
  {
   "cell_type": "markdown",
   "id": "7e7b2d6f-b345-4429-9629-5c196b239515",
   "metadata": {},
   "source": [
    "### Part 1 (loops lol)"
   ]
  },
  {
   "cell_type": "code",
   "execution_count": 3,
   "id": "6dcd3dd4-deac-4120-a015-800f47012026",
   "metadata": {},
   "outputs": [],
   "source": [
    "ans1 = 0\n",
    "for i, row in enumerate(inp):\n",
    "    for j, col in enumerate(row):\n",
    "        if col == 0:\n",
    "            state = (0,i,j)\n",
    "            ends = []\n",
    "            for n1 in neighbors(state):\n",
    "                for n2 in neighbors(n1):\n",
    "                    for n3 in neighbors(n2):\n",
    "                        for n4 in neighbors(n3):\n",
    "                            for n5 in neighbors(n4):\n",
    "                                for n6 in neighbors(n5):\n",
    "                                    for n7 in neighbors(n6):\n",
    "                                        for n8 in neighbors(n7):\n",
    "                                            for n9 in neighbors(n8):\n",
    "                                                ends.append(n9)\n",
    "            ans1 += len(list(set(ends)))"
   ]
  },
  {
   "cell_type": "markdown",
   "id": "c74171e0-1a58-443a-b90e-9d67ffb7cce8",
   "metadata": {},
   "source": [
    "### Part 2 (if it works and it's stupid...)"
   ]
  },
  {
   "cell_type": "code",
   "execution_count": 4,
   "id": "219c7cef-8d1d-4bb2-a647-65c4b26b6db7",
   "metadata": {},
   "outputs": [],
   "source": [
    "ans2 = 0\n",
    "for i, row in enumerate(inp):\n",
    "    for j, col in enumerate(row):\n",
    "        if col == 0:\n",
    "            state = (0,i,j)\n",
    "            for n1 in neighbors(state):\n",
    "                for n2 in neighbors(n1):\n",
    "                    for n3 in neighbors(n2):\n",
    "                        for n4 in neighbors(n3):\n",
    "                            for n5 in neighbors(n4):\n",
    "                                for n6 in neighbors(n5):\n",
    "                                    for n7 in neighbors(n6):\n",
    "                                        for n8 in neighbors(n7):\n",
    "                                            for n9 in neighbors(n8):\n",
    "                                                ans2 += 1"
   ]
  }
 ],
 "metadata": {
  "kernelspec": {
   "display_name": "Python 3 (ipykernel)",
   "language": "python",
   "name": "python3"
  },
  "language_info": {
   "codemirror_mode": {
    "name": "ipython",
    "version": 3
   },
   "file_extension": ".py",
   "mimetype": "text/x-python",
   "name": "python",
   "nbconvert_exporter": "python",
   "pygments_lexer": "ipython3",
   "version": "3.11.9"
  }
 },
 "nbformat": 4,
 "nbformat_minor": 5
}
