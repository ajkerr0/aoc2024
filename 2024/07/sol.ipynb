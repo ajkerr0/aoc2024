{
 "cells": [
  {
   "cell_type": "code",
   "execution_count": 1,
   "id": "eb422f99-5774-4f62-8007-b3e74d990bed",
   "metadata": {},
   "outputs": [],
   "source": [
    "import itertools\n",
    "import re"
   ]
  },
  {
   "cell_type": "code",
   "execution_count": 2,
   "id": "20fefb89-f5b8-4fa5-ac67-3aa6cb4e5f6a",
   "metadata": {},
   "outputs": [],
   "source": [
    "inp = open('input').read().splitlines()"
   ]
  },
  {
   "cell_type": "code",
   "execution_count": 3,
   "id": "5ce065a9-eae9-4cf8-8c55-e1336e267b40",
   "metadata": {},
   "outputs": [],
   "source": [
    "def get_combs(n, ops):\n",
    "    return list(itertools.product(ops, repeat=n))"
   ]
  },
  {
   "cell_type": "markdown",
   "id": "86f93212-104d-477d-a7b3-a3ffc98048ab",
   "metadata": {},
   "source": [
    "### Part 1"
   ]
  },
  {
   "cell_type": "code",
   "execution_count": 4,
   "id": "a4525dfa-37d1-40db-8a37-cbd9a2c8b1b9",
   "metadata": {},
   "outputs": [],
   "source": [
    "s1 = 0\n",
    "succ = []\n",
    "\n",
    "for i, row in enumerate(inp[:]):\n",
    "    nums = re.findall(r'\\d+', row)\n",
    "    test = int(nums[0])\n",
    "    for comb in get_combs(len(nums[1:])-1, '*+'):\n",
    "        ss = int(nums[1])\n",
    "        for num, op in zip(nums[2:], comb):\n",
    "            if op == '+':\n",
    "                ss += int(num)\n",
    "            elif op == '*':\n",
    "                ss *= int(num)\n",
    "        if test == ss:\n",
    "                s1 += test\n",
    "                succ.append(i)\n",
    "                break"
   ]
  },
  {
   "cell_type": "markdown",
   "id": "1ccadd00-6cc5-43a6-863b-a591c5160a90",
   "metadata": {},
   "source": [
    "### Part 2"
   ]
  },
  {
   "cell_type": "code",
   "execution_count": 5,
   "id": "6ae04e16-0d48-4e5e-84e6-1625ccadceee",
   "metadata": {},
   "outputs": [],
   "source": [
    "s2 = 0\n",
    "\n",
    "for i, row in enumerate(inp[:]):\n",
    "    if i in succ:\n",
    "        continue\n",
    "    nums = re.findall(r'\\d+', row)\n",
    "    test = int(nums[0])\n",
    "    for comb in get_combs(len(nums[1:])-1, '*+|'):\n",
    "        ss = int(nums[1])\n",
    "        for num, op in zip(nums[2:], comb):\n",
    "            if op == '+':\n",
    "                ss += int(num)\n",
    "            elif op == '*':\n",
    "                ss *= int(num)\n",
    "            elif op == '|':\n",
    "                ss = (10**len(num))*ss + int(num)\n",
    "        if test == ss:\n",
    "            s2 += test\n",
    "            break"
   ]
  },
  {
   "cell_type": "code",
   "execution_count": 6,
   "id": "1109cf63-aa27-470e-b4a3-2c568b1b58a0",
   "metadata": {},
   "outputs": [],
   "source": [
    "ans1 = s1\n",
    "ans2 = s1 + s2"
   ]
  }
 ],
 "metadata": {
  "kernelspec": {
   "display_name": "Python 3 (ipykernel)",
   "language": "python",
   "name": "python3"
  },
  "language_info": {
   "codemirror_mode": {
    "name": "ipython",
    "version": 3
   },
   "file_extension": ".py",
   "mimetype": "text/x-python",
   "name": "python",
   "nbconvert_exporter": "python",
   "pygments_lexer": "ipython3",
   "version": "3.11.9"
  }
 },
 "nbformat": 4,
 "nbformat_minor": 5
}
